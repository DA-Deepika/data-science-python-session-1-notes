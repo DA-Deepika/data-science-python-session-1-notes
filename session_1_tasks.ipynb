{
  "nbformat": 4,
  "nbformat_minor": 0,
  "metadata": {
    "colab": {
      "provenance": []
    },
    "kernelspec": {
      "name": "python3",
      "display_name": "Python 3"
    },
    "language_info": {
      "name": "python"
    }
  },
  "cells": [
    {
      "cell_type": "markdown",
      "source": [
        "# Task : Session 1\n",
        "Solve these questions own your own and try to test yourself what you have learned in the session.\n",
        "\n",
        "Happy Learning!"
      ],
      "metadata": {
        "id": "A05OG15VqOPF"
      }
    },
    {
      "cell_type": "markdown",
      "source": [
        "### Q1 :- Print the given strings as per stated format.\n",
        "\n",
        "**Given strings**: \n",
        "```\n",
        "\"Data\" \"Science\" \"Mentorship\" \"Program\" \n",
        "\"By\" \"CampusX\"\n",
        "```\n",
        "**Output**: \n",
        "``` \n",
        "Data-Science-Mentorship-Program-started-By-CampusX\n",
        "```\n",
        "\n",
        "Concept- [Seperator and End]"
      ],
      "metadata": {
        "id": "2doIXf8bqe9_"
      }
    },
    {
      "cell_type": "code",
      "source": [
        "# Write your code here\n",
        "print('hello',end=' ')\n",
        "print('python')\n",
        "print('hello',123,False,sep='*')"
      ],
      "metadata": {
        "id": "-em6d3KErDtp",
        "outputId": "a7621875-fb09-43b9-d3a2-0d75ccf7a03e",
        "colab": {
          "base_uri": "https://localhost:8080/"
        }
      },
      "execution_count": 3,
      "outputs": [
        {
          "output_type": "stream",
          "name": "stdout",
          "text": [
            "hello python\n",
            "hello*123*False\n"
          ]
        }
      ]
    },
    {
      "cell_type": "markdown",
      "source": [
        "### Q2:- Write a program that will convert celsius value to fahrenheit."
      ],
      "metadata": {
        "id": "1KUpN7ZTrC3_"
      }
    },
    {
      "cell_type": "code",
      "source": [
        "# Write your code here\n",
        "c = int(input('enter celsius value'))\n",
        "#formula = c * 1.8 +32  oR\n",
        "formula = c*9/5 + 32                 \n",
        "print('equivalent value of farenheit',formula)\n"
      ],
      "metadata": {
        "id": "yxKYhYQiqWfj",
        "outputId": "8287ae80-5836-41c2-c49c-08842a82fdb7",
        "colab": {
          "base_uri": "https://localhost:8080/"
        }
      },
      "execution_count": 12,
      "outputs": [
        {
          "output_type": "stream",
          "name": "stdout",
          "text": [
            "enter celsius value51\n",
            "equivalent value of farenheit 123.8\n"
          ]
        }
      ]
    },
    {
      "cell_type": "markdown",
      "source": [
        "### Q3:- Take 2 numbers as input from the user.Write a program to swap the numbers without using any special python syntax."
      ],
      "metadata": {
        "id": "RLrOBBJurLB2"
      }
    },
    {
      "cell_type": "code",
      "source": [
        "# Write your code here\n",
        "num1 = int(input('enter number'))\n",
        "num2 = int(input('enter number'))\n",
        "swap = num1,num2 = num2,num1\n",
        "print('swap number',swap)"
      ],
      "metadata": {
        "id": "yPn7if0TrJ4F",
        "outputId": "d32ac948-7622-4a80-d6ac-2927de1b9284",
        "colab": {
          "base_uri": "https://localhost:8080/"
        }
      },
      "execution_count": 8,
      "outputs": [
        {
          "output_type": "stream",
          "name": "stdout",
          "text": [
            "enter number5\n",
            "enter number6\n",
            "swap number (6, 5)\n"
          ]
        }
      ]
    },
    {
      "cell_type": "markdown",
      "source": [
        "### Q4:- Write a program to find the euclidean distance between two coordinates.Take both the coordinates from the user as input."
      ],
      "metadata": {
        "id": "waLCP1bjr7ML"
      }
    },
    {
      "cell_type": "code",
      "source": [
        "from IPython.core.interactiveshell import Module\n",
        "# Write your code \n",
        "import math\n",
        "\n",
        "x1 = int(input('enter first x cordinate'))\n",
        "y1 = int(input('enter first y coordinate'))\n",
        "x2 = int(input('enter second x coordinate'))\n",
        "y2 = int(input('enter second y coordinate'))\n",
        "\n",
        "#dis = math.sqrt(((x2 - x1)**2) + ((y2 - y1)**2)) or\n",
        "\n",
        "dis = ((x2-x1)**2 + (y2 - y1)**2)**0.5\n",
        "\n",
        "print('euclidean distance will be',dis)\n"
      ],
      "metadata": {
        "id": "Pl1Sv-xnrxnH",
        "outputId": "73802604-d3f1-4578-b8d9-dcad4996f4bb",
        "colab": {
          "base_uri": "https://localhost:8080/"
        }
      },
      "execution_count": 11,
      "outputs": [
        {
          "output_type": "stream",
          "name": "stdout",
          "text": [
            "enter first x cordinate6\n",
            "enter first y coordinate2\n",
            "enter second x coordinate4\n",
            "enter second y coordinate7\n",
            "euclidean distance will be 5.385164807134504\n"
          ]
        }
      ]
    },
    {
      "cell_type": "markdown",
      "source": [
        "### Q5:- Write a program to find the simple interest when the value of principle,rate of interest and time period is provided by the user.\n"
      ],
      "metadata": {
        "id": "VLrhg-FRsHjR"
      }
    },
    {
      "cell_type": "code",
      "source": [
        "# Write your code here\n",
        "p = int(input('enter principle'))\n",
        "r = int(input('enter rate'))\n",
        "t = int(input('enter time'))\n",
        "si = p*r*t\n",
        "print('si will be',si)"
      ],
      "metadata": {
        "id": "s40DlReZsTmY",
        "outputId": "ad71dc5f-98b3-4c2e-ab3d-acc42a8ada2a",
        "colab": {
          "base_uri": "https://localhost:8080/"
        }
      },
      "execution_count": 10,
      "outputs": [
        {
          "output_type": "stream",
          "name": "stdout",
          "text": [
            "enter principle245\n",
            "enter rate20\n",
            "enter time3\n",
            "si will be 14700\n"
          ]
        }
      ]
    },
    {
      "cell_type": "markdown",
      "source": [
        "### Q6:- Write a program that will tell the number of dogs and chicken are there when the user will provide the value of total heads and legs.\n",
        "\n",
        "For example:\n",
        "Input:\n",
        "heads -> 4\n",
        "legs -> 12\n",
        "<br>\n",
        "Output:\n",
        "dogs -> 2\n",
        "chicken -> 2\n",
        "\n",
        "\n",
        "\n"
      ],
      "metadata": {
        "id": "LMy0BTUktYKa"
      }
    },
    {
      "cell_type": "code",
      "source": [
        "# Write your code here\n",
        "heads = 4\n",
        "legs = 12\n"
      ],
      "metadata": {
        "id": "XSBvJoA4tXaG"
      },
      "execution_count": null,
      "outputs": []
    },
    {
      "cell_type": "markdown",
      "source": [
        "### Q7:- Write a program to find the sum of squares of first n natural numbers where n will be provided by the user."
      ],
      "metadata": {
        "id": "gJ7C5kZYt4BP"
      }
    },
    {
      "cell_type": "code",
      "source": [
        "# Write your code here\n",
        "n = int(input('enter no')\n",
        "i=1\n",
        "sum = 0\n",
        "while i<=n:\n",
        "  s = sum + (i*i)\n",
        "  i=i+1\n",
        "  print('sq is',sum)\n"
      ],
      "metadata": {
        "id": "_tHsmEHzt2nX",
        "outputId": "6341a791-231c-4c62-aed3-82acd192a171",
        "colab": {
          "base_uri": "https://localhost:8080/",
          "height": 131
        }
      },
      "execution_count": 18,
      "outputs": [
        {
          "output_type": "error",
          "ename": "SyntaxError",
          "evalue": "ignored",
          "traceback": [
            "\u001b[0;36m  File \u001b[0;32m\"<ipython-input-18-c172b2eab1f9>\"\u001b[0;36m, line \u001b[0;32m3\u001b[0m\n\u001b[0;31m    i=1\u001b[0m\n\u001b[0m    ^\u001b[0m\n\u001b[0;31mSyntaxError\u001b[0m\u001b[0;31m:\u001b[0m invalid syntax\n"
          ]
        }
      ]
    },
    {
      "cell_type": "markdown",
      "source": [
        "### Q8:- Given the first 2 terms of an Arithmetic Series.Find the Nth term of the series. Assume all inputs are provided by the user."
      ],
      "metadata": {
        "id": "FHrMM7g-yG1h"
      }
    },
    {
      "cell_type": "code",
      "source": [
        "# Write your code here\n",
        "#formula nth term = a+(n-1)\n",
        "\n",
        "a = int(input('eneter a'))\n",
        "b = int(input('eneter b'))\n",
        "n = int(input('eneter n'))\n",
        "result =  a+(n-1)*b\n",
        "print(result)"
      ],
      "metadata": {
        "id": "go4_kmZmyVSx",
        "outputId": "334f814a-2885-45b7-ba2a-da1934ab480e",
        "colab": {
          "base_uri": "https://localhost:8080/"
        }
      },
      "execution_count": 21,
      "outputs": [
        {
          "output_type": "stream",
          "name": "stdout",
          "text": [
            "eneter a10\n",
            "eneter b10\n",
            "eneter n10\n",
            "100\n"
          ]
        }
      ]
    },
    {
      "cell_type": "markdown",
      "source": [
        "### Q9:- Given 2 fractions, find the sum of those 2 fractions.Take the numerator and denominator values of the fractions from the user."
      ],
      "metadata": {
        "id": "QgyRX_es1oum"
      }
    },
    {
      "cell_type": "code",
      "source": [
        "# Write your code here\n",
        "f1 = int(input('enter num'))\n",
        "f2 = int(input('enter denom'))\n",
        "f3 = int(input('enter num'))\n",
        "f4 = int(input('enter denom'))\n",
        "#result = f1/f2+f3/f4 oR\n",
        "\n",
        "result1 = (f1*f4) + (f2*f3) \n",
        "result2 = (f2*f4)\n",
        "\n",
        "print(result1/result2)\n",
        "print('the result={}/{}'.format(result1,result2))"
      ],
      "metadata": {
        "id": "X05xqFS1yW16",
        "outputId": "45c83958-997c-4208-ff02-cbbc5e1dda4e",
        "colab": {
          "base_uri": "https://localhost:8080/"
        }
      },
      "execution_count": 24,
      "outputs": [
        {
          "output_type": "stream",
          "name": "stdout",
          "text": [
            "enter num2\n",
            "enter denom3\n",
            "enter num3\n",
            "enter denom7\n",
            "1.0952380952380953\n",
            "the result=23/21\n"
          ]
        }
      ]
    },
    {
      "cell_type": "markdown",
      "source": [
        "### Q10:- Given the height, width and breadth of a milk tank, you have to find out how many glasses of milk can be obtained? Assume all the inputs are provided by the user.\n",
        "\n",
        "\n",
        "\n",
        "Input:<br>\n",
        "Dimensions of the milk tank<br>\n",
        "H = 20cm, L = 20cm, B = 20cm\n",
        "<br><br>\n",
        "Dimensions of the glass<br>\n",
        "h = 3cm, r = 1cm"
      ],
      "metadata": {
        "id": "eaql38ln13u7"
      }
    },
    {
      "cell_type": "code",
      "source": [
        "# Write your code here"
      ],
      "metadata": {
        "id": "FePZqno74eWv"
      },
      "execution_count": null,
      "outputs": []
    }
  ]
}